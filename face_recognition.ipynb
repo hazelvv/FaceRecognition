{
 "cells": [
  {
   "cell_type": "markdown",
   "id": "cdb83c15-6fd3-4f7b-ad62-047c8beedc31",
   "metadata": {},
   "source": [
    "### 필요한 라이브러리 import"
   ]
  },
  {
   "cell_type": "code",
   "execution_count": 1,
   "id": "413080cb-6278-4cec-8f13-bfb396723e4d",
   "metadata": {
    "tags": []
   },
   "outputs": [],
   "source": [
    "import cv2\n",
    "import numpy as np\n",
    "import os\n"
   ]
  },
  {
   "cell_type": "markdown",
   "id": "f91c120f-3149-4025-bf45-236cd6ada252",
   "metadata": {},
   "source": [
    "### 사진이 있는 디렉터리의 경로 설정 및 os.listdir()을 통해 디렉터리의 파일명을 배열로 받아옴"
   ]
  },
  {
   "cell_type": "code",
   "execution_count": 2,
   "id": "f5f99d89-5c5d-4e2c-ace6-219ca344abca",
   "metadata": {
    "tags": []
   },
   "outputs": [],
   "source": [
    "path_dir = \"images/faces/\"\n",
    "file_list = os.listdir(path_dir)"
   ]
  },
  {
   "cell_type": "code",
   "execution_count": 3,
   "id": "4ce3ab1b-c8e2-4ec5-a921-7fb7d90a776f",
   "metadata": {},
   "outputs": [
    {
     "data": {
      "text/plain": [
       "'Aaron_Eckhart_0001.jpg'"
      ]
     },
     "execution_count": 3,
     "metadata": {},
     "output_type": "execute_result"
    }
   ],
   "source": [
    "### 첫번째 배열을 출력.\n",
    "file_list[0]"
   ]
  },
  {
   "cell_type": "code",
   "execution_count": 4,
   "id": "7b87674f-c2f3-4726-ad5d-aa9eed0cfbef",
   "metadata": {
    "tags": []
   },
   "outputs": [
    {
     "data": {
      "text/plain": [
       "9330"
      ]
     },
     "execution_count": 4,
     "metadata": {},
     "output_type": "execute_result"
    }
   ],
   "source": [
    "#배열에 들어간 원소의 개수\n",
    "len(file_list)"
   ]
  },
  {
   "cell_type": "code",
   "execution_count": 5,
   "id": "ebf87f4d-2228-4659-8503-586e0ef5e50c",
   "metadata": {},
   "outputs": [
    {
     "data": {
      "text/plain": [
       "'Aaron_Eckhart_0001'"
      ]
     },
     "execution_count": 5,
     "metadata": {},
     "output_type": "execute_result"
    }
   ],
   "source": [
    "## file_name_list의 이름으로 배열을 만들고\n",
    "file_name_list=[]\n",
    "\n",
    "## .replacefmf 통해 확장자명이 없는 파일명을 새로 만듦->최종 파일명이 [이미지이름.jpg.jpg]가 되지 않도록 별도 처리\n",
    "for i in range(len(file_list)):\n",
    "    file_name_list.append(file_list[i].replace(\".jpg\",\"\"))\n",
    "\n",
    "file_name_list[0]"
   ]
  },
  {
   "cell_type": "code",
   "execution_count": 6,
   "id": "90ce2894-2384-487b-bba2-ddcdb3039e7a",
   "metadata": {
    "tags": []
   },
   "outputs": [],
   "source": [
    "#자르기 전 이미지에서 얼굴을 잘 인식하는지 확인하기 위해 출력을 하는 코드\n",
    "\n",
    "## image 변수에 cv2.imread()를 통해 이미지를 불러온다\n",
    "## face_cascade변수에 cv2.CascadeClassfier()를 통해 얼굴 인식 모델을 불러온다\n",
    "\n",
    "\n",
    "\n",
    "\n",
    "image = cv2.imread('images/faces/Aaron_Eckhart_0001.jpg')\n",
    "face_cascade = cv2.CascadeClassifier('models/haarcascade_frontalface_default.xml')\n",
    "                                     \n",
    "    \n",
    "##CascadeClassfier는 OpenCV에서 제공하는 객체검출을 위한 분류기 클래스이다.\n",
    "##faces변수에 모델에서 제공하는 .detectMultiScale()을 통해 얼굴을 검출 가능하다. \n",
    "gray = cv2.cvtColor(image, cv2.COLOR_BGR2GRAY)\n",
    "faces = face_cascade.detectMultiScale(gray, 1.3, 5)\n",
    "for (x,y,w,h) in faces:\n",
    "    cv2.rectangle(image, (x,y), (x+w, y+h), (255, 0, 0), 2)\n",
    "    cv2.imshow(\"face_recogniton\", image)\n",
    "    cv2.waitKey(0)\n",
    "    cv2.destroyAllWindows()\n",
    "                "
   ]
  },
  {
   "cell_type": "code",
   "execution_count": 7,
   "id": "cfd182ac-95f6-4761-afad-b72d95407f53",
   "metadata": {
    "tags": []
   },
   "outputs": [],
   "source": [
    "#얼굴을 잘라 사이즈를 조정해 출력해주는 코드\n",
    "image = cv2.imread('images/faces/Aaron_Eckhart_0001.jpg')\n",
    "face_cascade = cv2.CascadeClassifier('models/haarcascade_frontalface_default.xml')\n",
    "gray = cv2.cvtColor(image, cv2.COLOR_BGR2GRAY)\n",
    "faces = face_cascade.detectMultiScale(gray, 1.3, 5)\n",
    "for (x,y,w,h) in faces:\n",
    "    cv2.rectangle(image, (x,y), (x+w, y+h), (255, 0, 0), 2)\n",
    "    cropped = image[y: y+h, x: x+w]\n",
    "    ## cropped 변수에 검출한 얼굴 영역을 지정하고 해당 부분을 180*180의 크기로 재조정한다\n",
    "    ## 원본 사진의 크기는 250*250으로 사진의 재조정은 cv2.resize()함수를 사용한다. \n",
    "    resize = cv2.resize(cropped, (180, 180))\n",
    "    cv2.imshow(\"crop&resize\", resize)\n",
    "    cv2.waitKey(0)\n",
    "    cv2.destroyAllWindows()"
   ]
  },
  {
   "cell_type": "code",
   "execution_count": 12,
   "id": "2ddf967b-7d66-49fe-94d2-d70349ffbf81",
   "metadata": {
    "tags": []
   },
   "outputs": [],
   "source": [
    "#여러 장의 사진을 작업하기 위해 코드를 함수화한다\n",
    "\n",
    "def Cutting_face_save(image, name):\n",
    "    face_cascade = cv2.CascadeClassifier('models/haarcascade_frontalface_default.xml')\n",
    "    gray = cv2.cvtColor(image, cv2.COLOR_BGR2GRAY)\n",
    "    faces = face_cascade.detectMultiScale(gray, 1.3, 5)\n",
    "    for (x,y,w,h) in faces:\n",
    "        cropped = image[y: y+h, x: x+w]\n",
    "        resize = cv2.resize(cropped, (180, 180))\n",
    "        cv2.imwrite(f\"images/cutting_faces/{name}.jpg\", resize)"
   ]
  },
  {
   "cell_type": "code",
   "execution_count": null,
   "id": "50a0da26-533f-47aa-bc27-1652b09e7f3a",
   "metadata": {
    "tags": []
   },
   "outputs": [],
   "source": [
    "for name in file_name_list:\n",
    "    img = cv2.imread(\"images/faces/\"+name+\".jpg\")\n",
    "    Cutting_face_save(img, name)"
   ]
  },
  {
   "cell_type": "code",
   "execution_count": null,
   "id": "ac56e17d-d4f6-4a93-b564-7f7db62591c1",
   "metadata": {},
   "outputs": [],
   "source": []
  }
 ],
 "metadata": {
  "kernelspec": {
   "display_name": "Python 3 (ipykernel)",
   "language": "python",
   "name": "python3"
  },
  "language_info": {
   "codemirror_mode": {
    "name": "ipython",
    "version": 3
   },
   "file_extension": ".py",
   "mimetype": "text/x-python",
   "name": "python",
   "nbconvert_exporter": "python",
   "pygments_lexer": "ipython3",
   "version": "3.11.5"
  }
 },
 "nbformat": 4,
 "nbformat_minor": 5
}
